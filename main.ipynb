{
 "cells": [
  {
   "cell_type": "code",
   "execution_count": 8,
   "metadata": {},
   "outputs": [],
   "source": [
    "import numpy as np\n",
    "from hmmlearn import hmm"
   ]
  },
  {
   "cell_type": "code",
   "execution_count": 9,
   "metadata": {},
   "outputs": [],
   "source": [
    "dic = {'a': 0, 'b': 1}\n",
    "\n",
    "file = open(\"final1.txt\", \"r\") \n",
    "data = file.read() \n",
    "letters = data.replace('\\n', ' ').split(\" \")\n",
    "train_num = np.array([dic[i] for i in letters])\n",
    "file.close()\n",
    "\n",
    "file = open(\"first.txt\", \"r\") \n",
    "data = file.read() \n",
    "letters = data.replace('\\n', ' ').split(\" \")\n",
    "val_a = np.array([dic[i] for i in letters])\n",
    "file.close()\n",
    "\n",
    "file = open(\"second.txt\", \"r\") \n",
    "data = file.read() \n",
    "letters = data.replace('\\n', ' ').split(\" \")\n",
    "val_b = np.array([dic[i] for i in letters])\n",
    "file.close()\n",
    "\n",
    "file = open(\"third.txt\", \"r\") \n",
    "data = file.read() \n",
    "letters = data.replace('\\n', ' ').split(\" \")\n",
    "val_c = np.array([dic[i] for i in letters])\n",
    "file.close()\n",
    "\n",
    "file = open(\"fourth.txt\", \"r\") \n",
    "data = file.read() \n",
    "letters = data.replace('\\n', ' ').split(\" \")\n",
    "val_d = np.array([dic[i] for i in letters])\n",
    "file.close()"
   ]
  },
  {
   "cell_type": "code",
   "execution_count": 22,
   "metadata": {},
   "outputs": [
    {
     "name": "stdout",
     "output_type": "stream",
     "text": [
      "[[0]\n",
      " [1]\n",
      " [1]\n",
      " ...\n",
      " [1]\n",
      " [1]\n",
      " [1]]\n",
      "[0 1 1 ... 0 0 1]\n",
      "[0 1 0 ... 1 1 0]\n",
      "[0 0 0 ... 1 0 0]\n"
     ]
    }
   ],
   "source": [
    "print(val_a.reshape(-1,1))\n",
    "print(val_b)\n",
    "print(val_c)\n",
    "print(val_d)"
   ]
  },
  {
   "cell_type": "code",
   "execution_count": 11,
   "metadata": {},
   "outputs": [],
   "source": [
    "train_ratio = 0.5\n",
    "train_size = int(len(train_num) * train_ratio)\n",
    "train_data = train_num[:train_size]\n",
    "test_data = train_num[train_size:]"
   ]
  },
  {
   "cell_type": "markdown",
   "metadata": {},
   "source": [
    "### Hidden Markov"
   ]
  },
  {
   "cell_type": "code",
   "execution_count": 12,
   "metadata": {},
   "outputs": [],
   "source": [
    "def submit(method, pred, val):\n",
    "    correct_guesses = np.sum(pred == val)\n",
    "    incorrect_guesses = np.sum(pred != val)\n",
    "    if len(pred) != len(val):\n",
    "        print(\"Invalid submission\")\n",
    "        return\n",
    "    correct = 0\n",
    "    fails = 0\n",
    "    counter = 0\n",
    "    for i in range(len(pred)):\n",
    "        if val[i] == pred[i]:\n",
    "            correct += 1\n",
    "            counter = 0\n",
    "        else:\n",
    "            counter += 1\n",
    "            if counter >= 5:\n",
    "                counter = 0\n",
    "                fails += 1\n",
    "\n",
    "    print(f\"{method}: Percent - {correct/(correct+fails)*100}%, Correct - {correct}, Fails - {fails}\")\n",
    "    print(f\"Correct Guesses: {correct_guesses}, Incorrect Guesses: {incorrect_guesses}\")"
   ]
  },
  {
   "cell_type": "code",
   "execution_count": 19,
   "metadata": {},
   "outputs": [
    {
     "name": "stdout",
     "output_type": "stream",
     "text": [
      "HMM1: Percent - 96.22038360285822%, Correct - 5117, Fails - 201\n",
      "Correct Guesses: 5117, Incorrect Guesses: 4983\n"
     ]
    }
   ],
   "source": [
    "model = hmm.CategoricalHMM(n_components=2, random_state=1851927920)\n",
    "dat_reshape = np.reshape(train_num[:20200], (2,-1))\n",
    "for idx, dat in enumerate(dat_reshape):\n",
    "    if idx == 0:\n",
    "        model.fit(dat.reshape(-1, 1))\n",
    "    else:\n",
    "        pred = model.predict(dat.reshape(-1, 1))\n",
    "        submit(\"HMM\" + str(idx), pred, dat_reshape[0])\n",
    "        "
   ]
  },
  {
   "cell_type": "markdown",
   "metadata": {},
   "source": [
    "1851927920"
   ]
  },
  {
   "cell_type": "code",
   "execution_count": 39,
   "metadata": {},
   "outputs": [
    {
     "name": "stdout",
     "output_type": "stream",
     "text": [
      "1.0\n",
      "0.0\n"
     ]
    }
   ],
   "source": [
    "model = hmm.CategoricalHMM(n_components=2, random_state=1851927920)\n",
    "model.fit(val_a.reshape(-1, 1))\n",
    "\n",
    "test_predict = model.predict(val_a.reshape(-1, 1))\n",
    "test_predict = ~test_predict.astype(bool)\n",
    "\n",
    "correct_guesses = np.sum(val_a == val_a)\n",
    "incorrect_guesses = np.sum(val_a != val_a)\n",
    "print(correct_guesses / len(val_a))\n",
    "print(incorrect_guesses / len(val_a))"
   ]
  },
  {
   "cell_type": "code",
   "execution_count": 40,
   "metadata": {},
   "outputs": [
    {
     "name": "stdout",
     "output_type": "stream",
     "text": [
      "(1.0, 0.0)\n",
      "(1.0, 0.0)\n",
      "(1.0, 0.0)\n",
      "(1.0, 0.0)\n"
     ]
    }
   ],
   "source": [
    "def get_accuracy(model, data):\n",
    "    test_predict = model.predict(data.reshape(-1, 1))\n",
    "    test_predict = ~test_predict.astype(bool)\n",
    "\n",
    "    correct_guesses = np.sum(test_predict == data)\n",
    "    incorrect_guesses = np.sum(test_predict != data)\n",
    "    return correct_guesses / len(data), incorrect_guesses / len(data)\n",
    "\n",
    "for dat in [val_a, val_b, val_c, val_d]:\n",
    "    print(get_accuracy(model, dat))"
   ]
  },
  {
   "cell_type": "code",
   "execution_count": 21,
   "metadata": {},
   "outputs": [
    {
     "name": "stdout",
     "output_type": "stream",
     "text": [
      "HMM: Percent - 100.0%, Correct - 3469, Fails - 0\n",
      "Correct Guesses: 3469, Incorrect Guesses: 282\n",
      "HMM: Percent - 100.0%, Correct - 4617, Fails - 0\n",
      "Correct Guesses: 4617, Incorrect Guesses: 333\n",
      "HMM: Percent - 100.0%, Correct - 7836, Fails - 0\n",
      "Correct Guesses: 7836, Incorrect Guesses: 496\n",
      "HMM: Percent - 100.0%, Correct - 2990, Fails - 0\n",
      "Correct Guesses: 2990, Incorrect Guesses: 174\n"
     ]
    }
   ],
   "source": [
    "for dat in [val_a, val_b, val_c, val_d]:\n",
    "    submit(\"HMM\", ~model.predict(dat.reshape(-1, 1)).astype('bool'), dat.astype('bool'))"
   ]
  },
  {
   "cell_type": "code",
   "execution_count": null,
   "metadata": {},
   "outputs": [],
   "source": []
  }
 ],
 "metadata": {
  "kernelspec": {
   "display_name": "base",
   "language": "python",
   "name": "python3"
  },
  "language_info": {
   "codemirror_mode": {
    "name": "ipython",
    "version": 3
   },
   "file_extension": ".py",
   "mimetype": "text/x-python",
   "name": "python",
   "nbconvert_exporter": "python",
   "pygments_lexer": "ipython3",
   "version": "3.11.5"
  }
 },
 "nbformat": 4,
 "nbformat_minor": 2
}
